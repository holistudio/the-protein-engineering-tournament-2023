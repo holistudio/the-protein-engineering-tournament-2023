{
 "cells": [
  {
   "cell_type": "markdown",
   "id": "513382cf",
   "metadata": {},
   "source": [
    "# Exploratory Data Analysis\n",
    "\n",
    "Exploring the dataset characteristics"
   ]
  },
  {
   "cell_type": "code",
   "execution_count": null,
   "id": "857af145",
   "metadata": {},
   "outputs": [],
   "source": [
    "import numpy as np\n",
    "import pandas as pd\n",
    "import matplotlib.pyplot as plt\n",
    "import seaborn as sns\n",
    "\n",
    "import os"
   ]
  },
  {
   "cell_type": "markdown",
   "id": "e41521af",
   "metadata": {},
   "source": [
    "## Load Data"
   ]
  },
  {
   "cell_type": "code",
   "execution_count": null,
   "id": "01458874",
   "metadata": {},
   "outputs": [],
   "source": [
    "dataset = 'Alkaline phosphatase PafA'\n",
    "\n",
    "train_csv = os.path.join('input', f'{dataset}  (In Silico_ Supervised)', 'train.csv')\n",
    "test_csv = os.path.join('input', f'{dataset}  (In Silico_ Supervised)', 'test (with values).csv')\n",
    "\n",
    "truth_csv =os.path.join('output', 'truth.csv.gz')"
   ]
  },
  {
   "cell_type": "code",
   "execution_count": null,
   "id": "144c27e8",
   "metadata": {},
   "outputs": [],
   "source": [
    "train_df = pd.read_csv(train_csv)\n",
    "test_df = pd.read_csv(test_csv)\n",
    "truth_df = pd.read_csv(truth_csv, compression='gzip')"
   ]
  },
  {
   "cell_type": "code",
   "execution_count": null,
   "id": "e5d6eddb",
   "metadata": {},
   "outputs": [],
   "source": [
    "train_df.head()"
   ]
  },
  {
   "cell_type": "code",
   "execution_count": null,
   "id": "43f49e54",
   "metadata": {},
   "outputs": [],
   "source": [
    "test_df.head()"
   ]
  },
  {
   "cell_type": "code",
   "execution_count": null,
   "id": "f3bf9fc3",
   "metadata": {},
   "outputs": [],
   "source": [
    "truth_df.head()"
   ]
  },
  {
   "cell_type": "code",
   "execution_count": null,
   "id": "6a57d34d",
   "metadata": {},
   "outputs": [],
   "source": [
    "truth_ds_df = truth_df[truth_df['dataset'] == dataset]\n",
    "truth_ds_df.head()"
   ]
  },
  {
   "cell_type": "markdown",
   "id": "5e88c95d",
   "metadata": {},
   "source": [
    "## Target Values"
   ]
  },
  {
   "cell_type": "code",
   "execution_count": null,
   "id": "7c2ebf6a",
   "metadata": {},
   "outputs": [],
   "source": []
  },
  {
   "cell_type": "markdown",
   "id": "d9d64d30",
   "metadata": {},
   "source": [
    "## Input Sequences"
   ]
  },
  {
   "cell_type": "code",
   "execution_count": null,
   "id": "ef66ca0e",
   "metadata": {},
   "outputs": [],
   "source": [
    "# TODO: analyze the patterns in the protein/DNA sequences...somehow"
   ]
  }
 ],
 "metadata": {
  "kernelspec": {
   "display_name": "learn-ml",
   "language": "python",
   "name": "python3"
  },
  "language_info": {
   "codemirror_mode": {
    "name": "ipython",
    "version": 3
   },
   "file_extension": ".py",
   "mimetype": "text/x-python",
   "name": "python",
   "nbconvert_exporter": "python",
   "pygments_lexer": "ipython3",
   "version": "3.13.7"
  }
 },
 "nbformat": 4,
 "nbformat_minor": 5
}
