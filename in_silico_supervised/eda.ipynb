{
 "cells": [
  {
   "cell_type": "markdown",
   "id": "513382cf",
   "metadata": {},
   "source": [
    "# Exploratory Data Analysis\n",
    "\n",
    "Exploring the dataset characteristics"
   ]
  },
  {
   "cell_type": "code",
   "execution_count": null,
   "id": "857af145",
   "metadata": {},
   "outputs": [],
   "source": [
    "import numpy as np\n",
    "import pandas as pd\n",
    "import matplotlib.pyplot as plt\n",
    "import seaborn as sns\n",
    "\n",
    "import os"
   ]
  },
  {
   "cell_type": "markdown",
   "id": "e41521af",
   "metadata": {},
   "source": [
    "## Load Data"
   ]
  },
  {
   "cell_type": "code",
   "execution_count": null,
   "id": "01458874",
   "metadata": {},
   "outputs": [],
   "source": [
    "dataset = 'Alkaline phosphatase PafA'\n",
    "\n",
    "train_csv = os.path.join('input', f'{dataset}  (In Silico_ Supervised)', 'train.csv')\n",
    "test_csv = os.path.join('input', f'{dataset}  (In Silico_ Supervised)', 'test (with values).csv')\n",
    "\n",
    "truth_csv =os.path.join('output', 'truth.csv.gz')"
   ]
  },
  {
   "cell_type": "code",
   "execution_count": null,
   "id": "144c27e8",
   "metadata": {},
   "outputs": [],
   "source": [
    "train_df = pd.read_csv(train_csv)\n",
    "test_df = pd.read_csv(test_csv)\n",
    "truth_df = pd.read_csv(truth_csv, compression='gzip')"
   ]
  },
  {
   "cell_type": "code",
   "execution_count": null,
   "id": "e5d6eddb",
   "metadata": {},
   "outputs": [],
   "source": [
    "train_df.head()"
   ]
  },
  {
   "cell_type": "code",
   "execution_count": null,
   "id": "43f49e54",
   "metadata": {},
   "outputs": [],
   "source": [
    "test_df.head()"
   ]
  },
  {
   "cell_type": "code",
   "execution_count": null,
   "id": "b73c42ab",
   "metadata": {},
   "outputs": [],
   "source": [
    "len(train_df) / (len(train_df) + len(test_df))"
   ]
  },
  {
   "cell_type": "code",
   "execution_count": null,
   "id": "f3bf9fc3",
   "metadata": {},
   "outputs": [],
   "source": [
    "truth_df.head()"
   ]
  },
  {
   "cell_type": "code",
   "execution_count": null,
   "id": "6a57d34d",
   "metadata": {},
   "outputs": [],
   "source": [
    "truth_ds_df = truth_df[truth_df['dataset'] == dataset]\n",
    "truth_ds_df.head()"
   ]
  },
  {
   "cell_type": "code",
   "execution_count": null,
   "id": "8fed89b5",
   "metadata": {},
   "outputs": [],
   "source": [
    "truth_ds_df['truth'].isna().any()"
   ]
  },
  {
   "cell_type": "code",
   "execution_count": null,
   "id": "93ccfb60",
   "metadata": {},
   "outputs": [],
   "source": [
    "col_names = list(train_df.columns)\n",
    "col_names"
   ]
  },
  {
   "cell_type": "code",
   "execution_count": null,
   "id": "5fea8de1",
   "metadata": {},
   "outputs": [],
   "source": [
    "input_cols = col_names[:2]\n",
    "target_cols = col_names[2:]\n",
    "\n",
    "input_cols,target_cols"
   ]
  },
  {
   "cell_type": "code",
   "execution_count": null,
   "id": "a246d3c9",
   "metadata": {},
   "outputs": [],
   "source": [
    "dfs = [train_df, test_df]\n",
    "for df in dfs:\n",
    "    for col in target_cols:\n",
    "        print(df[col].isna().any())"
   ]
  },
  {
   "cell_type": "markdown",
   "id": "78578b23",
   "metadata": {},
   "source": [
    "## Merge DataFrames"
   ]
  },
  {
   "cell_type": "code",
   "execution_count": null,
   "id": "717ee5f8",
   "metadata": {},
   "outputs": [],
   "source": [
    "train_df['dataset'] = 'train'\n",
    "train_df.head()"
   ]
  },
  {
   "cell_type": "code",
   "execution_count": null,
   "id": "6a869409",
   "metadata": {},
   "outputs": [],
   "source": [
    "test_df['dataset'] = 'test'\n",
    "test_df.head()"
   ]
  },
  {
   "cell_type": "code",
   "execution_count": null,
   "id": "b852c8be",
   "metadata": {},
   "outputs": [],
   "source": [
    "merge_cols = ['mutated_sequence']+[name for name in target_cols]+['dataset']\n",
    "merge_cols"
   ]
  },
  {
   "cell_type": "code",
   "execution_count": null,
   "id": "818f8276",
   "metadata": {},
   "outputs": [],
   "source": [
    "merge_df = pd.concat((train_df,test_df))\n",
    "merge_df = merge_df[merge_cols]\n",
    "merge_df.head()"
   ]
  },
  {
   "cell_type": "code",
   "execution_count": null,
   "id": "9f65eba9",
   "metadata": {},
   "outputs": [],
   "source": [
    "merge_df.tail()"
   ]
  },
  {
   "cell_type": "code",
   "execution_count": null,
   "id": "dba9a17b",
   "metadata": {},
   "outputs": [],
   "source": [
    "merge2 = truth_ds_df[['mutated_sequence', 'target', 'truth']]\n",
    "\n",
    "merge2 = merge2.pivot(index='mutated_sequence', columns='target', values='truth')\n",
    "merge2.columns.name = None\n",
    "merge2 = merge2.reset_index()\n",
    "\n",
    "merge2['dataset'] = 'truth'\n",
    "merge2.head()"
   ]
  },
  {
   "cell_type": "code",
   "execution_count": null,
   "id": "47cd3964",
   "metadata": {},
   "outputs": [],
   "source": [
    "merge_df = pd.concat((merge_df, merge2))\n",
    "merge_df = merge_df.reset_index(drop=True)\n",
    "merge_df.head()"
   ]
  },
  {
   "cell_type": "code",
   "execution_count": null,
   "id": "6cb2c902",
   "metadata": {},
   "outputs": [],
   "source": [
    "merge_df.tail()"
   ]
  },
  {
   "cell_type": "markdown",
   "id": "5e88c95d",
   "metadata": {},
   "source": [
    "## Target Values"
   ]
  },
  {
   "cell_type": "code",
   "execution_count": null,
   "id": "7c2ebf6a",
   "metadata": {},
   "outputs": [],
   "source": [
    "# sns.pairplot(data=merge_df, hue='dataset',vars=target_cols)\n",
    "# plt.show()"
   ]
  },
  {
   "cell_type": "code",
   "execution_count": null,
   "id": "dbd1923a",
   "metadata": {},
   "outputs": [],
   "source": [
    "filter = merge_df['dataset'] != 'truth'\n",
    "sns.pairplot(data=merge_df[filter], hue='dataset',vars=target_cols)\n",
    "plt.show()"
   ]
  },
  {
   "cell_type": "code",
   "execution_count": null,
   "id": "78551e24",
   "metadata": {},
   "outputs": [],
   "source": [
    "# test_df and truth_df appear to be the same\n",
    "# filter = merge_df['dataset'] != 'train'\n",
    "# sns.pairplot(data=merge_df[filter], hue='dataset',vars=target_cols)\n",
    "# plt.show()"
   ]
  },
  {
   "cell_type": "code",
   "execution_count": null,
   "id": "76dda439",
   "metadata": {},
   "outputs": [],
   "source": [
    "filter = train_df['methyl phosphodiester (MecMUP)'] > 500\n",
    "train_df[filter].head()"
   ]
  },
  {
   "cell_type": "code",
   "execution_count": null,
   "id": "5861353f",
   "metadata": {},
   "outputs": [],
   "source": [
    "filter = (merge_df['dataset'] != 'truth') & (merge_df['methyl phosphodiester (MecMUP)'] < 500)\n",
    "sns.pairplot(data=merge_df[filter], hue='dataset',vars=target_cols)\n",
    "plt.show()"
   ]
  },
  {
   "cell_type": "code",
   "execution_count": null,
   "id": "73d1d4d6",
   "metadata": {},
   "outputs": [],
   "source": [
    "filter = train_df['methyl phosphodiester (MecMUP)'] > 75\n",
    "train_df[filter].head()"
   ]
  },
  {
   "cell_type": "code",
   "execution_count": null,
   "id": "545e9ac6",
   "metadata": {},
   "outputs": [],
   "source": [
    "filter = (merge_df['dataset'] != 'truth') & (merge_df['methyl phosphodiester (MecMUP)'] < 75)\n",
    "sns.pairplot(data=merge_df[filter], hue='dataset',vars=target_cols)\n",
    "plt.show()"
   ]
  },
  {
   "cell_type": "code",
   "execution_count": null,
   "id": "ac1c1565",
   "metadata": {},
   "outputs": [],
   "source": [
    "for i, name in enumerate(target_cols):\n",
    "    mu = np.mean(train_df[target_cols[i]].to_numpy())\n",
    "    std = np.std(train_df[target_cols[i]].to_numpy())\n",
    "    print(name, mu, std)"
   ]
  },
  {
   "cell_type": "code",
   "execution_count": null,
   "id": "9a98c9f3",
   "metadata": {},
   "outputs": [],
   "source": [
    "# TODO: what's the mean std with the training outliers removed?"
   ]
  },
  {
   "cell_type": "markdown",
   "id": "d9d64d30",
   "metadata": {},
   "source": [
    "## Input Sequences"
   ]
  },
  {
   "cell_type": "code",
   "execution_count": null,
   "id": "c4deaddb",
   "metadata": {},
   "outputs": [],
   "source": [
    "# TODO: analyze the variation in sequence lengths"
   ]
  },
  {
   "cell_type": "code",
   "execution_count": null,
   "id": "ef66ca0e",
   "metadata": {},
   "outputs": [],
   "source": [
    "# TODO: analyze the patterns in the protein/DNA sequences...somehow"
   ]
  }
 ],
 "metadata": {
  "kernelspec": {
   "display_name": "learn-ml",
   "language": "python",
   "name": "python3"
  },
  "language_info": {
   "codemirror_mode": {
    "name": "ipython",
    "version": 3
   },
   "file_extension": ".py",
   "mimetype": "text/x-python",
   "name": "python",
   "nbconvert_exporter": "python",
   "pygments_lexer": "ipython3",
   "version": "3.13.7"
  }
 },
 "nbformat": 4,
 "nbformat_minor": 5
}
