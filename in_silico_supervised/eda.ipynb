{
 "cells": [
  {
   "cell_type": "markdown",
   "id": "513382cf",
   "metadata": {},
   "source": [
    "# Exploratory Data Analysis\n",
    "\n",
    "Exploring the dataset characteristics"
   ]
  },
  {
   "cell_type": "code",
   "execution_count": null,
   "id": "857af145",
   "metadata": {},
   "outputs": [],
   "source": []
  },
  {
   "cell_type": "markdown",
   "id": "e41521af",
   "metadata": {},
   "source": [
    "## Load Data"
   ]
  },
  {
   "cell_type": "code",
   "execution_count": null,
   "id": "01458874",
   "metadata": {},
   "outputs": [],
   "source": []
  },
  {
   "cell_type": "markdown",
   "id": "5e88c95d",
   "metadata": {},
   "source": [
    "## Target Values"
   ]
  },
  {
   "cell_type": "code",
   "execution_count": null,
   "id": "7c2ebf6a",
   "metadata": {},
   "outputs": [],
   "source": []
  },
  {
   "cell_type": "markdown",
   "id": "d9d64d30",
   "metadata": {},
   "source": [
    "## Input Sequences"
   ]
  },
  {
   "cell_type": "code",
   "execution_count": null,
   "id": "ef66ca0e",
   "metadata": {},
   "outputs": [],
   "source": [
    "# TODO: analyze the patterns in the protein/DNA sequences...somehow"
   ]
  }
 ],
 "metadata": {
  "kernelspec": {
   "display_name": "learn-ml",
   "language": "python",
   "name": "python3"
  },
  "language_info": {
   "name": "python",
   "version": "3.13.7"
  }
 },
 "nbformat": 4,
 "nbformat_minor": 5
}
