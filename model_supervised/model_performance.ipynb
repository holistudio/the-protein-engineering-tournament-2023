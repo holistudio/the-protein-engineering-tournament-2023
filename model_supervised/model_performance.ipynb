{
 "cells": [
  {
   "cell_type": "markdown",
   "id": "5dd06682",
   "metadata": {},
   "source": [
    "# Model Performance"
   ]
  },
  {
   "cell_type": "code",
   "execution_count": null,
   "id": "e8abd864",
   "metadata": {},
   "outputs": [],
   "source": [
    "import numpy as np\n",
    "import pandas as pd\n",
    "import matplotlib.pyplot as plt\n",
    "import seaborn as sns\n",
    "\n",
    "import os"
   ]
  },
  {
   "cell_type": "code",
   "execution_count": null,
   "id": "226bb772",
   "metadata": {},
   "outputs": [],
   "source": [
    "FILE_PREFIX = 'GPT_emb256_nh4_nl4'"
   ]
  },
  {
   "cell_type": "markdown",
   "id": "8cf244c4",
   "metadata": {},
   "source": [
    "## Load Data"
   ]
  },
  {
   "cell_type": "code",
   "execution_count": null,
   "id": "0ffcbf84",
   "metadata": {},
   "outputs": [],
   "source": [
    "dataset = 'Alkaline phosphatase PafA'\n",
    "\n",
    "data_dir  = os.path.join('..', 'in_silico_supervised', 'input', f'{dataset}  (In Silico_ Supervised)')\n",
    "\n",
    "train_csv = os.path.join(data_dir, 'train.csv')\n",
    "test_csv  = os.path.join(data_dir, 'test (with values).csv')"
   ]
  },
  {
   "cell_type": "code",
   "execution_count": null,
   "id": "67b5b624",
   "metadata": {},
   "outputs": [],
   "source": [
    "train_df = pd.read_csv(train_csv)\n",
    "test_df = pd.read_csv(test_csv)"
   ]
  },
  {
   "cell_type": "code",
   "execution_count": null,
   "id": "19eba5c0",
   "metadata": {},
   "outputs": [],
   "source": [
    "preds_test_df = pd.read_pickle(f\"{FILE_PREFIX}_preds_test.pkl\")"
   ]
  },
  {
   "cell_type": "code",
   "execution_count": null,
   "id": "07b8e850",
   "metadata": {},
   "outputs": [],
   "source": [
    "col_names = list(train_df.columns)\n",
    "col_names"
   ]
  },
  {
   "cell_type": "code",
   "execution_count": null,
   "id": "a86fbf04",
   "metadata": {},
   "outputs": [],
   "source": [
    "input_cols = col_names[:2]\n",
    "target_cols = col_names[2:]\n",
    "\n",
    "input_cols,target_cols"
   ]
  },
  {
   "cell_type": "code",
   "execution_count": null,
   "id": "c8a52b3f",
   "metadata": {},
   "outputs": [],
   "source": [
    "test_df.head()"
   ]
  },
  {
   "cell_type": "code",
   "execution_count": null,
   "id": "aaaf954e",
   "metadata": {},
   "outputs": [],
   "source": [
    "preds_test_df.head()"
   ]
  },
  {
   "cell_type": "markdown",
   "id": "c33c3574",
   "metadata": {},
   "source": [
    "## Merge DataFrames"
   ]
  },
  {
   "cell_type": "code",
   "execution_count": null,
   "id": "248dfe36",
   "metadata": {},
   "outputs": [],
   "source": [
    "train_df['dataset'] = 'train'\n",
    "test_df['dataset'] = 'test'\n",
    "preds_test_df['dataset'] = 'model'"
   ]
  },
  {
   "cell_type": "code",
   "execution_count": null,
   "id": "633af35b",
   "metadata": {},
   "outputs": [],
   "source": [
    "merge_cols = ['mutated_sequence']+[name for name in target_cols]+['dataset']\n",
    "merge_cols"
   ]
  },
  {
   "cell_type": "code",
   "execution_count": null,
   "id": "d7fcf8c3",
   "metadata": {},
   "outputs": [],
   "source": [
    "merge_df = pd.concat((test_df,preds_test_df))\n",
    "merge_df = merge_df[merge_cols]\n",
    "merge_df.head()"
   ]
  },
  {
   "cell_type": "markdown",
   "id": "bc78a44a",
   "metadata": {},
   "source": [
    "## Target Values"
   ]
  },
  {
   "cell_type": "code",
   "execution_count": null,
   "id": "6671f127",
   "metadata": {},
   "outputs": [],
   "source": [
    "def spearman_corr(pred, y):\n",
    "    # Get ranks of pred and y using double argsort trick\n",
    "    pred_rank = np.argsort(np.argsort(pred))\n",
    "    y_rank = np.argsort(np.argsort(y))\n",
    "\n",
    "    # Convert to float for correlation computation\n",
    "    pred_rank = pred_rank.astype(float)\n",
    "    y_rank = y_rank.astype(float)\n",
    "\n",
    "    # Normalize (zero mean and unit variance)\n",
    "    pred_rank = (pred_rank - pred_rank.mean()) / pred_rank.std()\n",
    "    y_rank = (y_rank - y_rank.mean()) / y_rank.std()\n",
    "\n",
    "    # Pearson correlation of ranks\n",
    "    return (pred_rank * y_rank).mean()"
   ]
  },
  {
   "cell_type": "code",
   "execution_count": null,
   "id": "57426451",
   "metadata": {},
   "outputs": [],
   "source": [
    "data = {\n",
    "    \"target\": [],\n",
    "    \"spearman_coeff\":[]\n",
    "}\n",
    "\n",
    "for c in range(len(target_cols)):\n",
    "    pred_vals = preds_test_df[target_cols[c]].to_numpy()\n",
    "    target_vals = test_df[target_cols[c]].to_numpy()\n",
    "\n",
    "    # compute spearman coefficient\n",
    "    sp = spearman_corr(pred_vals, target_vals)\n",
    "\n",
    "    data['target'].append(target_cols[c])\n",
    "    data['spearman_coeff'].append(sp)\n",
    "\n",
    "spearman_df = pd.DataFrame(data=data)\n",
    "spearman_df\n"
   ]
  },
  {
   "cell_type": "code",
   "execution_count": null,
   "id": "673fe66a",
   "metadata": {},
   "outputs": [],
   "source": [
    "sns.pairplot(data=merge_df, hue='dataset',vars=target_cols)\n",
    "plt.show()"
   ]
  }
 ],
 "metadata": {
  "kernelspec": {
   "display_name": "learn-ml",
   "language": "python",
   "name": "python3"
  },
  "language_info": {
   "codemirror_mode": {
    "name": "ipython",
    "version": 3
   },
   "file_extension": ".py",
   "mimetype": "text/x-python",
   "name": "python",
   "nbconvert_exporter": "python",
   "pygments_lexer": "ipython3",
   "version": "3.13.7"
  }
 },
 "nbformat": 4,
 "nbformat_minor": 5
}
